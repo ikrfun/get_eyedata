{
 "cells": [
  {
   "cell_type": "code",
   "execution_count": 2,
   "id": "55d269a9-b797-4bd9-8eab-34eeb95fd478",
   "metadata": {},
   "outputs": [],
   "source": [
    "\n",
    "import os \n",
    "import cv2\n",
    "from tqdm import tqdm\n",
    "import numpy as np\n",
    "import pandas as pd\n",
    "from dataclasses import dataclass\n",
    "\n",
    "@dataclass\n",
    "class Area:\n",
    "    name: str\n",
    "    top_x: int\n",
    "    top_y: int\n",
    "    bottom_x: int\n",
    "    bottom_y: int\n"
   ]
  },
  {
   "cell_type": "code",
   "execution_count": 3,
   "id": "b96feade-b8bc-46a1-b32f-f5286d08adea",
   "metadata": {},
   "outputs": [],
   "source": [
    "minimap = Area('minimap',15,620,435,1040)\n",
    "left_team = Area('left_team',440,980,870,1080)\n",
    "right_team = Area('right_team',1050,980,1480,1080)\n",
    "timer = Area('timer',870,980,1050,1080)\n",
    "kill_log = Area('kill_log',1490,780,1920,1020)\n",
    "hp = Area('hp',520,0,685,100)\n",
    "skill = Area('skill',745,0,1175,100)\n",
    "amo = Area('amo',1235,0,1400,100)\n",
    "center = ('center',960,540,125)\n",
    "\n",
    "def get_roi(x, y):\n",
    "    if ((x - center[1])**2 + (y - center[2])**2) <= center[3]**2:\n",
    "        return center[0]\n",
    "    elif left_team.top_x <= x <= left_team.bottom_x and left_team.top_y <= y <= left_team.bottom_y:\n",
    "        return left_team.name\n",
    "    elif right_team.top_x <= x <= right_team.bottom_x and right_team.top_y <= y <= right_team.bottom_y:\n",
    "        return right_team.name\n",
    "    elif timer.top_x <= x <= timer.bottom_x and timer.top_y <= y <= timer.bottom_y:\n",
    "        return timer.name\n",
    "    elif kill_log.top_x <= x <= kill_log.bottom_x and kill_log.top_y <= y <= kill_log.bottom_y:\n",
    "        return kill_log.name\n",
    "    elif hp.top_x <= x <= hp.bottom_x and hp.top_y <= y <= hp.bottom_y:\n",
    "        return hp.name\n",
    "    elif skill.top_x <= x <= skill.bottom_x and skill.top_y <= y <= skill.bottom_y:\n",
    "        return skill.name\n",
    "    elif amo.top_x <= x <= amo.bottom_x and amo.top_y <= y <= amo.bottom_y:\n",
    "        return amo.name\n",
    "    elif minimap.top_x <= x <= minimap.bottom_x and minimap.top_y <= y <= minimap.bottom_y:\n",
    "        return minimap.name\n",
    "    else:\n",
    "        return 'other'"
   ]
  },
  {
   "cell_type": "code",
   "execution_count": 4,
   "id": "80e2ec1e-3326-437d-81d9-d11c448afd21",
   "metadata": {},
   "outputs": [
    {
     "data": {
      "text/plain": [
       "'minimap'"
      ]
     },
     "execution_count": 4,
     "metadata": {},
     "output_type": "execute_result"
    }
   ],
   "source": [
    "get_roi(300,1000)"
   ]
  },
  {
   "cell_type": "code",
   "execution_count": 5,
   "id": "87d5f4c2-7a0f-4c56-b3a9-d792218d060e",
   "metadata": {},
   "outputs": [
    {
     "data": {
      "text/plain": [
       "'left_team'"
      ]
     },
     "execution_count": 5,
     "metadata": {},
     "output_type": "execute_result"
    }
   ],
   "source": [
    "get_roi(450,1000)"
   ]
  },
  {
   "cell_type": "code",
   "execution_count": 6,
   "id": "99472c2c-a9b3-4955-ba54-363f32e3f5d3",
   "metadata": {},
   "outputs": [
    {
     "data": {
      "text/plain": [
       "'timer'"
      ]
     },
     "execution_count": 6,
     "metadata": {},
     "output_type": "execute_result"
    }
   ],
   "source": [
    "get_roi(880,1000)"
   ]
  },
  {
   "cell_type": "code",
   "execution_count": 7,
   "id": "4dc07556-e412-4b25-9f0e-403daf994106",
   "metadata": {},
   "outputs": [
    {
     "data": {
      "text/plain": [
       "'kill_log'"
      ]
     },
     "execution_count": 7,
     "metadata": {},
     "output_type": "execute_result"
    }
   ],
   "source": [
    "get_roi(1500,1000)"
   ]
  },
  {
   "cell_type": "code",
   "execution_count": 8,
   "id": "f4c1506c-373e-457c-bfb5-303429e31931",
   "metadata": {},
   "outputs": [
    {
     "data": {
      "text/plain": [
       "'hp'"
      ]
     },
     "execution_count": 8,
     "metadata": {},
     "output_type": "execute_result"
    }
   ],
   "source": [
    "get_roi(540,10)"
   ]
  },
  {
   "cell_type": "code",
   "execution_count": 9,
   "id": "f0d9e064-67c9-4ce8-92cd-e798a37b87f0",
   "metadata": {},
   "outputs": [
    {
     "data": {
      "text/plain": [
       "'skill'"
      ]
     },
     "execution_count": 9,
     "metadata": {},
     "output_type": "execute_result"
    }
   ],
   "source": [
    "get_roi(750,10)"
   ]
  },
  {
   "cell_type": "code",
   "execution_count": 11,
   "id": "6a327c03-d5a4-41c6-b354-6082bbb4e9e5",
   "metadata": {},
   "outputs": [
    {
     "data": {
      "text/plain": [
       "'amo'"
      ]
     },
     "execution_count": 11,
     "metadata": {},
     "output_type": "execute_result"
    }
   ],
   "source": [
    "get_roi(1240,10)"
   ]
  },
  {
   "cell_type": "code",
   "execution_count": null,
   "id": "a4729ffa-2058-4034-95e0-21507dd696ee",
   "metadata": {},
   "outputs": [],
   "source": []
  }
 ],
 "metadata": {
  "kernelspec": {
   "display_name": "Python 3 (ipykernel)",
   "language": "python",
   "name": "python3"
  },
  "language_info": {
   "codemirror_mode": {
    "name": "ipython",
    "version": 3
   },
   "file_extension": ".py",
   "mimetype": "text/x-python",
   "name": "python",
   "nbconvert_exporter": "python",
   "pygments_lexer": "ipython3",
   "version": "3.10.9"
  }
 },
 "nbformat": 4,
 "nbformat_minor": 5
}
