{
 "cells": [
  {
   "cell_type": "code",
   "execution_count": 2,
   "id": "55d269a9-b797-4bd9-8eab-34eeb95fd478",
   "metadata": {},
   "outputs": [],
   "source": [
    "\n",
    "import os \n",
    "import cv2\n",
    "from tqdm import tqdm\n",
    "import numpy as np\n",
    "import pandas as pd\n",
    "from dataclasses import dataclass\n",
    "\n",
    "@dataclass\n",
    "class Area:\n",
    "    name: str\n",
    "    top_x: int\n",
    "    top_y: int\n",
    "    bottom_x: int\n",
    "    bottom_y: int\n"
   ]
  },
  {
   "cell_type": "code",
   "execution_count": 3,
   "id": "b96feade-b8bc-46a1-b32f-f5286d08adea",
   "metadata": {},
   "outputs": [],
   "source": [
    "minimap = Area('minimap',15,620,435,1040)\n",
    "left_team = Area('left_team',440,980,870,1080)\n",
    "right_team = Area('right_team',1050,980,1480,1080)\n",
    "timer = Area('timer',870,980,1050,1080)\n",
    "kill_log = Area('kill_log',1490,780,1920,1020)\n",
    "hp = Area('hp',520,0,685,100)\n",
    "skill = Area('skill',745,0,1175,100)\n",
    "amo = Area('amo',1235,0,1400,100)\n",
    "center = ('center',960,540,125)\n",
    "\n",
    "def get_roi(x, y):\n",
    "    if ((x - center[1])**2 + (y - center[2])**2) <= center[3]**2:\n",
    "        return center[0]\n",
    "    elif left_team.top_x <= x <= left_team.bottom_x and left_team.top_y <= y <= left_team.bottom_y:\n",
    "        return left_team.name\n",
    "    elif right_team.top_x <= x <= right_team.bottom_x and right_team.top_y <= y <= right_team.bottom_y:\n",
    "        return right_team.name\n",
    "    elif timer.top_x <= x <= timer.bottom_x and timer.top_y <= y <= timer.bottom_y:\n",
    "        return timer.name\n",
    "    elif kill_log.top_x <= x <= kill_log.bottom_x and kill_log.top_y <= y <= kill_log.bottom_y:\n",
    "        return kill_log.name\n",
    "    elif hp.top_x <= x <= hp.bottom_x and hp.top_y <= y <= hp.bottom_y:\n",
    "        return hp.name\n",
    "    elif skill.top_x <= x <= skill.bottom_x and skill.top_y <= y <= skill.bottom_y:\n",
    "        return skill.name\n",
    "    elif amo.top_x <= x <= amo.bottom_x and amo.top_y <= y <= amo.bottom_y:\n",
    "        return amo.name\n",
    "    elif minimap.top_x <= x <= minimap.bottom_x and minimap.top_y <= y <= minimap.bottom_y:\n",
    "        return minimap.name\n",
    "    else:\n",
    "        return 'other'"
   ]
  },
  {
   "cell_type": "code",
   "execution_count": 4,
   "id": "80e2ec1e-3326-437d-81d9-d11c448afd21",
   "metadata": {},
   "outputs": [
    {
     "data": {
      "text/plain": [
       "'minimap'"
      ]
     },
     "execution_count": 4,
     "metadata": {},
     "output_type": "execute_result"
    }
   ],
   "source": [
    "get_roi(300,1000)"
   ]
  },
  {
   "cell_type": "code",
   "execution_count": 5,
   "id": "87d5f4c2-7a0f-4c56-b3a9-d792218d060e",
   "metadata": {},
   "outputs": [
    {
     "data": {
      "text/plain": [
       "'left_team'"
      ]
     },
     "execution_count": 5,
     "metadata": {},
     "output_type": "execute_result"
    }
   ],
   "source": [
    "get_roi(450,1000)"
   ]
  },
  {
   "cell_type": "code",
   "execution_count": 6,
   "id": "99472c2c-a9b3-4955-ba54-363f32e3f5d3",
   "metadata": {},
   "outputs": [
    {
     "data": {
      "text/plain": [
       "'timer'"
      ]
     },
     "execution_count": 6,
     "metadata": {},
     "output_type": "execute_result"
    }
   ],
   "source": [
    "get_roi(880,1000)"
   ]
  },
  {
   "cell_type": "code",
   "execution_count": 7,
   "id": "4dc07556-e412-4b25-9f0e-403daf994106",
   "metadata": {},
   "outputs": [
    {
     "data": {
      "text/plain": [
       "'kill_log'"
      ]
     },
     "execution_count": 7,
     "metadata": {},
     "output_type": "execute_result"
    }
   ],
   "source": [
    "get_roi(1500,1000)"
   ]
  },
  {
   "cell_type": "code",
   "execution_count": 8,
   "id": "f4c1506c-373e-457c-bfb5-303429e31931",
   "metadata": {},
   "outputs": [
    {
     "data": {
      "text/plain": [
       "'hp'"
      ]
     },
     "execution_count": 8,
     "metadata": {},
     "output_type": "execute_result"
    }
   ],
   "source": [
    "get_roi(540,10)"
   ]
  },
  {
   "cell_type": "code",
   "execution_count": 9,
   "id": "f0d9e064-67c9-4ce8-92cd-e798a37b87f0",
   "metadata": {},
   "outputs": [
    {
     "data": {
      "text/plain": [
       "'skill'"
      ]
     },
     "execution_count": 9,
     "metadata": {},
     "output_type": "execute_result"
    }
   ],
   "source": [
    "get_roi(750,10)"
   ]
  },
  {
   "cell_type": "code",
   "execution_count": 11,
   "id": "6a327c03-d5a4-41c6-b354-6082bbb4e9e5",
   "metadata": {},
   "outputs": [
    {
     "data": {
      "text/plain": [
       "'amo'"
      ]
     },
     "execution_count": 11,
     "metadata": {},
     "output_type": "execute_result"
    }
   ],
   "source": [
    "get_roi(1240,10)"
   ]
  },
  {
   "cell_type": "code",
   "execution_count": 3,
   "id": "a4729ffa-2058-4034-95e0-21507dd696ee",
   "metadata": {},
   "outputs": [],
   "source": [
    "from moviepy.editor import VideoFileClip\n",
    "import os\n",
    "\n",
    "def make_displayonly_video(video_path:str, output_dir:str='displayonly_video'):\n",
    "    clip = VideoFileClip(video_path)\n",
    "    cropped_clip = clip.crop(y1=0, y2=clip.h // 2)  # cropping the upper half of the video\n",
    "    \n",
    "    os.makedirs(output_dir, exist_ok=True)  # create the directory if it doesn't exist\n",
    "    \n",
    "    output_path = os.path.join(output_dir, os.path.basename(video_path))\n",
    "    base_name, ext = os.path.splitext(output_path)\n",
    "    i = 1\n",
    "    while os.path.exists(output_path):\n",
    "        print(f\"{output_path} already exists, saving as {base_name}{i}.mp4 instead.\")\n",
    "        output_path = f\"{base_name}{i}.mp4\"\n",
    "        i += 1\n",
    "\n",
    "    cropped_clip.write_videofile(output_path, codec='libx264')\n"
   ]
  },
  {
   "cell_type": "code",
   "execution_count": 4,
   "id": "2c2042f6",
   "metadata": {},
   "outputs": [
    {
     "name": "stdout",
     "output_type": "stream",
     "text": [
      "Moviepy - Building video displayonly_video\\x-test.mkv.\n",
      "MoviePy - Writing audio in x-testTEMP_MPY_wvf_snd.mp3\n"
     ]
    },
    {
     "name": "stderr",
     "output_type": "stream",
     "text": [
      "                                                       \r"
     ]
    },
    {
     "name": "stdout",
     "output_type": "stream",
     "text": [
      "MoviePy - Done.\n",
      "Moviepy - Writing video displayonly_video\\x-test.mkv\n",
      "\n"
     ]
    },
    {
     "name": "stderr",
     "output_type": "stream",
     "text": [
      "                                                              \r"
     ]
    },
    {
     "name": "stdout",
     "output_type": "stream",
     "text": [
      "Moviepy - Done !\n",
      "Moviepy - video ready displayonly_video\\x-test.mkv\n"
     ]
    }
   ],
   "source": [
    "import os \n",
    "make_displayonly_video(os.path.normpath(r'data\\video\\x-test.mkv'))"
   ]
  },
  {
   "cell_type": "code",
   "execution_count": 1,
   "id": "2a7bd294",
   "metadata": {},
   "outputs": [],
   "source": [
    "from get_eyedata import ow2\n",
    "import os "
   ]
  },
  {
   "cell_type": "code",
   "execution_count": 2,
   "id": "783d0fc5-b3f1-47e0-a21a-0f8fa82d1f3d",
   "metadata": {},
   "outputs": [
    {
     "name": "stdout",
     "output_type": "stream",
     "text": [
      "hp\n",
      "other\n",
      "other\n",
      "center\n",
      "other\n",
      "other\n"
     ]
    }
   ],
   "source": [
    "print(ow2.get_roi(200,150))\n",
    "print(ow2.get_roi(950,150))\n",
    "print(ow2.get_roi(200,370))\n",
    "print(ow2.get_roi(920,540))\n",
    "print(ow2.get_roi(1900,1000))\n",
    "print(ow2.get_roi(950,980))"
   ]
  },
  {
   "cell_type": "code",
   "execution_count": 5,
   "id": "887ebeed-7a75-43fb-907d-92ec5b1da2a0",
   "metadata": {},
   "outputs": [
    {
     "name": "stdout",
     "output_type": "stream",
     "text": [
      "total_frames:141\n"
     ]
    },
    {
     "name": "stderr",
     "output_type": "stream",
     "text": [
      "100%|████████████| 141/141 [00:02<00:00, 67.23it/s]\n"
     ]
    },
    {
     "name": "stdout",
     "output_type": "stream",
     "text": [
      "displayonly_video\\x-test.mkv already exists, saving as displayonly_video\\x-test1.mp4 instead.\n",
      "displayonly_video\\x-test1.mp4 already exists, saving as displayonly_video\\x-test2.mp4 instead.\n",
      "displayonly_video\\x-test2.mp4 already exists, saving as displayonly_video\\x-test3.mp4 instead.\n",
      "displayonly_video\\x-test3.mp4 already exists, saving as displayonly_video\\x-test4.mp4 instead.\n",
      "displayonly_video\\x-test4.mp4 already exists, saving as displayonly_video\\x-test5.mp4 instead.\n",
      "displayonly_video\\x-test5.mp4 already exists, saving as displayonly_video\\x-test6.mp4 instead.\n",
      "displayonly_video\\x-test6.mp4 already exists, saving as displayonly_video\\x-test7.mp4 instead.\n",
      "displayonly_video\\x-test7.mp4 already exists, saving as displayonly_video\\x-test8.mp4 instead.\n",
      "Moviepy - Building video displayonly_video\\x-test8.mp4.\n",
      "MoviePy - Writing audio in x-test8TEMP_MPY_wvf_snd.mp3\n"
     ]
    },
    {
     "name": "stderr",
     "output_type": "stream",
     "text": [
      "                                                   \r"
     ]
    },
    {
     "name": "stdout",
     "output_type": "stream",
     "text": [
      "MoviePy - Done.\n",
      "Moviepy - Writing video displayonly_video\\x-test8.mp4\n",
      "\n"
     ]
    },
    {
     "name": "stderr",
     "output_type": "stream",
     "text": [
      "                                                   \r"
     ]
    },
    {
     "name": "stdout",
     "output_type": "stream",
     "text": [
      "Moviepy - Done !\n",
      "Moviepy - video ready displayonly_video\\x-test8.mp4\n"
     ]
    },
    {
     "data": {
      "text/html": [
       "<div>\n",
       "<style scoped>\n",
       "    .dataframe tbody tr th:only-of-type {\n",
       "        vertical-align: middle;\n",
       "    }\n",
       "\n",
       "    .dataframe tbody tr th {\n",
       "        vertical-align: top;\n",
       "    }\n",
       "\n",
       "    .dataframe thead th {\n",
       "        text-align: right;\n",
       "    }\n",
       "</style>\n",
       "<table border=\"1\" class=\"dataframe\">\n",
       "  <thead>\n",
       "    <tr style=\"text-align: right;\">\n",
       "      <th></th>\n",
       "      <th>frame_ids</th>\n",
       "      <th>x</th>\n",
       "      <th>y</th>\n",
       "      <th>roi</th>\n",
       "    </tr>\n",
       "  </thead>\n",
       "  <tbody>\n",
       "    <tr>\n",
       "      <th>0</th>\n",
       "      <td>0</td>\n",
       "      <td>67</td>\n",
       "      <td>886</td>\n",
       "      <td>other</td>\n",
       "    </tr>\n",
       "    <tr>\n",
       "      <th>1</th>\n",
       "      <td>1</td>\n",
       "      <td>67</td>\n",
       "      <td>886</td>\n",
       "      <td>other</td>\n",
       "    </tr>\n",
       "    <tr>\n",
       "      <th>2</th>\n",
       "      <td>2</td>\n",
       "      <td>138</td>\n",
       "      <td>992</td>\n",
       "      <td>other</td>\n",
       "    </tr>\n",
       "    <tr>\n",
       "      <th>3</th>\n",
       "      <td>3</td>\n",
       "      <td>138</td>\n",
       "      <td>992</td>\n",
       "      <td>other</td>\n",
       "    </tr>\n",
       "    <tr>\n",
       "      <th>4</th>\n",
       "      <td>4</td>\n",
       "      <td>138</td>\n",
       "      <td>992</td>\n",
       "      <td>other</td>\n",
       "    </tr>\n",
       "    <tr>\n",
       "      <th>...</th>\n",
       "      <td>...</td>\n",
       "      <td>...</td>\n",
       "      <td>...</td>\n",
       "      <td>...</td>\n",
       "    </tr>\n",
       "    <tr>\n",
       "      <th>136</th>\n",
       "      <td>136</td>\n",
       "      <td>1071</td>\n",
       "      <td>1080</td>\n",
       "      <td>match_status</td>\n",
       "    </tr>\n",
       "    <tr>\n",
       "      <th>137</th>\n",
       "      <td>137</td>\n",
       "      <td>1071</td>\n",
       "      <td>1080</td>\n",
       "      <td>match_status</td>\n",
       "    </tr>\n",
       "    <tr>\n",
       "      <th>138</th>\n",
       "      <td>138</td>\n",
       "      <td>1071</td>\n",
       "      <td>1080</td>\n",
       "      <td>match_status</td>\n",
       "    </tr>\n",
       "    <tr>\n",
       "      <th>139</th>\n",
       "      <td>139</td>\n",
       "      <td>1071</td>\n",
       "      <td>1080</td>\n",
       "      <td>match_status</td>\n",
       "    </tr>\n",
       "    <tr>\n",
       "      <th>140</th>\n",
       "      <td>140</td>\n",
       "      <td>1071</td>\n",
       "      <td>1080</td>\n",
       "      <td>match_status</td>\n",
       "    </tr>\n",
       "  </tbody>\n",
       "</table>\n",
       "<p>141 rows × 4 columns</p>\n",
       "</div>"
      ],
      "text/plain": [
       "     frame_ids     x     y           roi\n",
       "0            0    67   886         other\n",
       "1            1    67   886         other\n",
       "2            2   138   992         other\n",
       "3            3   138   992         other\n",
       "4            4   138   992         other\n",
       "..         ...   ...   ...           ...\n",
       "136        136  1071  1080  match_status\n",
       "137        137  1071  1080  match_status\n",
       "138        138  1071  1080  match_status\n",
       "139        139  1071  1080  match_status\n",
       "140        140  1071  1080  match_status\n",
       "\n",
       "[141 rows x 4 columns]"
      ]
     },
     "execution_count": 5,
     "metadata": {},
     "output_type": "execute_result"
    }
   ],
   "source": [
    "ow2.make_dataset(os.path.normpath(r'data\\video\\x-test.mkv'))"
   ]
  },
  {
   "cell_type": "code",
   "execution_count": 4,
   "id": "da276ab3-334c-47a8-bb51-7538f26c4815",
   "metadata": {},
   "outputs": [],
   "source": [
    "\n",
    "import cv2\n",
    "import numpy as np\n",
    "import pandas as pd\n",
    "from dataclasses import dataclass\n",
    "from queue import Queue\n",
    "from threading import Thread\n",
    "from concurrent.futures import ProcessPoolExecutor, as_completed\n",
    "from tqdm import tqdm\n",
    "import os\n",
    "\n",
    "@dataclass\n",
    "class Area:\n",
    "    name: str\n",
    "    top_x: int\n",
    "    top_y: int\n",
    "    bottom_x: int\n",
    "    bottom_y: int\n",
    "    \n",
    "areas = [\n",
    "    Area('hp', 50, 50, 500, 250),\n",
    "    Area('chat', 50, 330, 500, 500),\n",
    "    Area('ult', 880, 50, 1040, 220),\n",
    "    Area('my_status', 1450, 50, 1900, 280),\n",
    "    Area('match_status', 650, 880, 1300, 1080),\n",
    "    Area('kill_log', 1450, 880, 1920, 1080)\n",
    "]\n",
    "\n",
    "def get_roi(x, y):\n",
    "    if ((x - 960)**2 + (y - 540)**2) <= 125**2:\n",
    "        return 'center'\n",
    "    else:\n",
    "        for area in areas:\n",
    "            if area.top_x <= x <= area.bottom_x and area.top_y <= y <= area.bottom_y:\n",
    "                return area.name\n",
    "    return 'other'"
   ]
  },
  {
   "cell_type": "code",
   "execution_count": 5,
   "id": "5ecfdd40-6d16-4ccc-92b8-0a307e266153",
   "metadata": {},
   "outputs": [
    {
     "name": "stdout",
     "output_type": "stream",
     "text": [
      "hp\n",
      "ult\n",
      "chat\n",
      "center\n",
      "kill_log\n",
      "match_status\n"
     ]
    }
   ],
   "source": [
    "print(get_roi(200,150))\n",
    "print(get_roi(950,150))\n",
    "print(get_roi(200,370))\n",
    "print(get_roi(920,540))\n",
    "print(get_roi(1900,1000))\n",
    "print(get_roi(950,980))"
   ]
  },
  {
   "cell_type": "code",
   "execution_count": null,
   "id": "7671c139-2006-4d05-bea1-bdfa52339fe1",
   "metadata": {},
   "outputs": [],
   "source": []
  },
  {
   "cell_type": "code",
   "execution_count": null,
   "id": "d77d3c85-c76a-4f29-b558-0f594940ad5c",
   "metadata": {},
   "outputs": [],
   "source": []
  },
  {
   "cell_type": "code",
   "execution_count": 3,
   "id": "6e183d11",
   "metadata": {},
   "outputs": [
    {
     "name": "stderr",
     "output_type": "stream",
     "text": [
      "100%|██████| 3/3 [00:15<00:00,  5.31s/it]\n"
     ]
    }
   ],
   "source": [
    "valo.make_dataset_from_folder('data/video')"
   ]
  },
  {
   "cell_type": "code",
   "execution_count": null,
   "id": "ce4794d8-15c0-4a3e-ac8b-d2b25b8b684d",
   "metadata": {},
   "outputs": [],
   "source": []
  }
 ],
 "metadata": {
  "kernelspec": {
   "display_name": "Python 3 (ipykernel)",
   "language": "python",
   "name": "python3"
  },
  "language_info": {
   "codemirror_mode": {
    "name": "ipython",
    "version": 3
   },
   "file_extension": ".py",
   "mimetype": "text/x-python",
   "name": "python",
   "nbconvert_exporter": "python",
   "pygments_lexer": "ipython3",
   "version": "3.10.9"
  }
 },
 "nbformat": 4,
 "nbformat_minor": 5
}
